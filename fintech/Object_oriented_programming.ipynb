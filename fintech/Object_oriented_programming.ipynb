{
 "cells": [
  {
   "cell_type": "code",
   "execution_count": 2,
   "metadata": {},
   "outputs": [],
   "source": [
    "import pandas_datareader.data as getData"
   ]
  },
  {
   "cell_type": "code",
   "execution_count": 6,
   "metadata": {},
   "outputs": [
    {
     "name": "stdout",
     "output_type": "stream",
     "text": [
      "Requirement already satisfied: pandas in c:\\users\\roland.ferrao\\appdata\\local\\continuum\\anaconda3\\lib\\site-packages (0.24.2)\n",
      "Requirement already satisfied: numpy>=1.12.0 in c:\\users\\roland.ferrao\\appdata\\local\\continuum\\anaconda3\\lib\\site-packages (from pandas) (1.16.2)\n",
      "Requirement already satisfied: python-dateutil>=2.5.0 in c:\\users\\roland.ferrao\\appdata\\local\\continuum\\anaconda3\\lib\\site-packages (from pandas) (2.8.0)\n",
      "Requirement already satisfied: pytz>=2011k in c:\\users\\roland.ferrao\\appdata\\local\\continuum\\anaconda3\\lib\\site-packages (from pandas) (2018.9)\n",
      "Requirement already satisfied: six>=1.5 in c:\\users\\roland.ferrao\\appdata\\local\\continuum\\anaconda3\\lib\\site-packages (from python-dateutil>=2.5.0->pandas) (1.12.0)\n",
      "Note: you may need to restart the kernel to use updated packages.\n"
     ]
    }
   ],
   "source": [
    "pip install pandas"
   ]
  },
  {
   "cell_type": "code",
   "execution_count": 7,
   "metadata": {},
   "outputs": [
    {
     "name": "stdout",
     "output_type": "stream",
     "text": [
      "Collecting yfinance\n",
      "  Downloading https://files.pythonhosted.org/packages/53/0e/40387099824c98be22cd7e33a620e9d38b61998b031f0b33f0b9959717d2/yfinance-0.1.45.tar.gz\n",
      "Requirement already satisfied: pandas>=0.24 in c:\\users\\roland.ferrao\\appdata\\local\\continuum\\anaconda3\\lib\\site-packages (from yfinance) (0.24.2)\n",
      "Requirement already satisfied: numpy>=1.15 in c:\\users\\roland.ferrao\\appdata\\local\\continuum\\anaconda3\\lib\\site-packages (from yfinance) (1.16.2)\n",
      "Requirement already satisfied: requests>=2.20 in c:\\users\\roland.ferrao\\appdata\\local\\continuum\\anaconda3\\lib\\site-packages (from yfinance) (2.21.0)\n",
      "Collecting multitasking>=0.0.7 (from yfinance)\n",
      "  Downloading https://files.pythonhosted.org/packages/69/e7/e9f1661c28f7b87abfa08cb0e8f51dad2240a9f4f741f02ea839835e6d18/multitasking-0.0.9.tar.gz\n",
      "Requirement already satisfied: pytz>=2011k in c:\\users\\roland.ferrao\\appdata\\local\\continuum\\anaconda3\\lib\\site-packages (from pandas>=0.24->yfinance) (2018.9)\n",
      "Requirement already satisfied: python-dateutil>=2.5.0 in c:\\users\\roland.ferrao\\appdata\\local\\continuum\\anaconda3\\lib\\site-packages (from pandas>=0.24->yfinance) (2.8.0)\n",
      "Requirement already satisfied: idna<2.9,>=2.5 in c:\\users\\roland.ferrao\\appdata\\local\\continuum\\anaconda3\\lib\\site-packages (from requests>=2.20->yfinance) (2.8)\n",
      "Requirement already satisfied: urllib3<1.25,>=1.21.1 in c:\\users\\roland.ferrao\\appdata\\local\\continuum\\anaconda3\\lib\\site-packages (from requests>=2.20->yfinance) (1.24.1)\n",
      "Requirement already satisfied: certifi>=2017.4.17 in c:\\users\\roland.ferrao\\appdata\\local\\continuum\\anaconda3\\lib\\site-packages (from requests>=2.20->yfinance) (2019.6.16)\n",
      "Requirement already satisfied: chardet<3.1.0,>=3.0.2 in c:\\users\\roland.ferrao\\appdata\\local\\continuum\\anaconda3\\lib\\site-packages (from requests>=2.20->yfinance) (3.0.4)\n",
      "Requirement already satisfied: six>=1.5 in c:\\users\\roland.ferrao\\appdata\\local\\continuum\\anaconda3\\lib\\site-packages (from python-dateutil>=2.5.0->pandas>=0.24->yfinance) (1.12.0)\n",
      "Building wheels for collected packages: yfinance, multitasking\n",
      "  Building wheel for yfinance (setup.py): started\n",
      "  Building wheel for yfinance (setup.py): finished with status 'done'\n",
      "  Stored in directory: C:\\Users\\Roland.Ferrao\\AppData\\Local\\pip\\Cache\\wheels\\0c\\d1\\df\\aa9a7744a4ac353cc9a1f2c3aaea7c1f457fc49de4286f2d88\n",
      "  Building wheel for multitasking (setup.py): started\n",
      "  Building wheel for multitasking (setup.py): finished with status 'done'\n",
      "  Stored in directory: C:\\Users\\Roland.Ferrao\\AppData\\Local\\pip\\Cache\\wheels\\37\\fa\\73\\d492849e319038eb4d986f5152e4b19ffb1bc0639da84d2677\n",
      "Successfully built yfinance multitasking\n",
      "Installing collected packages: multitasking, yfinance\n",
      "Successfully installed multitasking-0.0.9 yfinance-0.1.45\n"
     ]
    }
   ],
   "source": [
    "!pip install yfinance"
   ]
  },
  {
   "cell_type": "code",
   "execution_count": 8,
   "metadata": {},
   "outputs": [
    {
     "name": "stdout",
     "output_type": "stream",
     "text": [
      "[*********************100%***********************]  1 of 1 downloaded\n"
     ]
    },
    {
     "data": {
      "text/plain": [
       "<Figure size 640x480 with 1 Axes>"
      ]
     },
     "metadata": {},
     "output_type": "display_data"
    }
   ],
   "source": [
    "import yfinance as yf  \n",
    " \n",
    "# Get the data for the stock Apple by specifying the stock ticker, start date, and end date\n",
    "data = yf.download('AAPL','2016-01-01','2018-01-01')\n",
    " \n",
    "# Plot the close prices\n",
    "import matplotlib.pyplot as plt\n",
    "data.Close.plot()\n",
    "plt.show()"
   ]
  },
  {
   "cell_type": "code",
   "execution_count": 9,
   "metadata": {},
   "outputs": [
    {
     "data": {
      "text/html": [
       "<div>\n",
       "<style scoped>\n",
       "    .dataframe tbody tr th:only-of-type {\n",
       "        vertical-align: middle;\n",
       "    }\n",
       "\n",
       "    .dataframe tbody tr th {\n",
       "        vertical-align: top;\n",
       "    }\n",
       "\n",
       "    .dataframe thead th {\n",
       "        text-align: right;\n",
       "    }\n",
       "</style>\n",
       "<table border=\"1\" class=\"dataframe\">\n",
       "  <thead>\n",
       "    <tr style=\"text-align: right;\">\n",
       "      <th></th>\n",
       "      <th>Open</th>\n",
       "      <th>High</th>\n",
       "      <th>Low</th>\n",
       "      <th>Close</th>\n",
       "      <th>Adj Close</th>\n",
       "      <th>Volume</th>\n",
       "    </tr>\n",
       "    <tr>\n",
       "      <th>Date</th>\n",
       "      <th></th>\n",
       "      <th></th>\n",
       "      <th></th>\n",
       "      <th></th>\n",
       "      <th></th>\n",
       "      <th></th>\n",
       "    </tr>\n",
       "  </thead>\n",
       "  <tbody>\n",
       "    <tr>\n",
       "      <th>2016-01-04</th>\n",
       "      <td>102.61</td>\n",
       "      <td>105.37</td>\n",
       "      <td>102.00</td>\n",
       "      <td>105.35</td>\n",
       "      <td>98.74</td>\n",
       "      <td>67649400</td>\n",
       "    </tr>\n",
       "    <tr>\n",
       "      <th>2016-01-05</th>\n",
       "      <td>105.75</td>\n",
       "      <td>105.85</td>\n",
       "      <td>102.41</td>\n",
       "      <td>102.71</td>\n",
       "      <td>96.27</td>\n",
       "      <td>55791000</td>\n",
       "    </tr>\n",
       "    <tr>\n",
       "      <th>2016-01-06</th>\n",
       "      <td>100.56</td>\n",
       "      <td>102.37</td>\n",
       "      <td>99.87</td>\n",
       "      <td>100.70</td>\n",
       "      <td>94.38</td>\n",
       "      <td>68457400</td>\n",
       "    </tr>\n",
       "    <tr>\n",
       "      <th>2016-01-07</th>\n",
       "      <td>98.68</td>\n",
       "      <td>100.13</td>\n",
       "      <td>96.43</td>\n",
       "      <td>96.45</td>\n",
       "      <td>90.40</td>\n",
       "      <td>81094400</td>\n",
       "    </tr>\n",
       "    <tr>\n",
       "      <th>2016-01-08</th>\n",
       "      <td>98.55</td>\n",
       "      <td>99.11</td>\n",
       "      <td>96.76</td>\n",
       "      <td>96.96</td>\n",
       "      <td>90.88</td>\n",
       "      <td>70798000</td>\n",
       "    </tr>\n",
       "  </tbody>\n",
       "</table>\n",
       "</div>"
      ],
      "text/plain": [
       "              Open    High     Low   Close  Adj Close    Volume\n",
       "Date                                                           \n",
       "2016-01-04  102.61  105.37  102.00  105.35      98.74  67649400\n",
       "2016-01-05  105.75  105.85  102.41  102.71      96.27  55791000\n",
       "2016-01-06  100.56  102.37   99.87  100.70      94.38  68457400\n",
       "2016-01-07   98.68  100.13   96.43   96.45      90.40  81094400\n",
       "2016-01-08   98.55   99.11   96.76   96.96      90.88  70798000"
      ]
     },
     "execution_count": 9,
     "metadata": {},
     "output_type": "execute_result"
    }
   ],
   "source": [
    "data.head()"
   ]
  },
  {
   "cell_type": "code",
   "execution_count": 12,
   "metadata": {},
   "outputs": [],
   "source": [
    "# class HumanBeing(object):  1\n",
    "#             def __init__(self, first_name, eye_color):  2\n",
    "#                 self.first_name = first_name  3\n",
    "#                 self.eye_color = eye_color  4\n",
    "#                 self.position = 0  5\n",
    "#             def walk_steps(self, steps):  6\n",
    "#                 self.position += steps  7\n"
   ]
  },
  {
   "cell_type": "code",
   "execution_count": 13,
   "metadata": {},
   "outputs": [],
   "source": [
    "class FinancialInstrument(object):\n",
    "    pass"
   ]
  },
  {
   "cell_type": "code",
   "execution_count": 14,
   "metadata": {},
   "outputs": [],
   "source": [
    "fi = FinancialInstrument()"
   ]
  },
  {
   "cell_type": "code",
   "execution_count": 15,
   "metadata": {},
   "outputs": [
    {
     "data": {
      "text/plain": [
       "__main__.FinancialInstrument"
      ]
     },
     "execution_count": 15,
     "metadata": {},
     "output_type": "execute_result"
    }
   ],
   "source": [
    "type(fi)"
   ]
  },
  {
   "cell_type": "code",
   "execution_count": 16,
   "metadata": {},
   "outputs": [
    {
     "data": {
      "text/plain": [
       "'<__main__.FinancialInstrument object at 0x00000210BD3ADBE0>'"
      ]
     },
     "execution_count": 16,
     "metadata": {},
     "output_type": "execute_result"
    }
   ],
   "source": [
    "fi.__str__()"
   ]
  },
  {
   "cell_type": "code",
   "execution_count": 17,
   "metadata": {},
   "outputs": [],
   "source": [
    "fi.price = 100"
   ]
  },
  {
   "cell_type": "code",
   "execution_count": 18,
   "metadata": {},
   "outputs": [
    {
     "data": {
      "text/plain": [
       "100"
      ]
     },
     "execution_count": 18,
     "metadata": {},
     "output_type": "execute_result"
    }
   ],
   "source": [
    "fi.price"
   ]
  },
  {
   "cell_type": "code",
   "execution_count": 26,
   "metadata": {},
   "outputs": [],
   "source": [
    "class FinancialInstrument(object):\n",
    "    author = 'Roland Ferrao'\n",
    "    def __init__(self, symbol, price):\n",
    "        self.symbol = symbol\n",
    "        self.price = price"
   ]
  },
  {
   "cell_type": "code",
   "execution_count": 27,
   "metadata": {},
   "outputs": [
    {
     "data": {
      "text/plain": [
       "'Roland Ferrao'"
      ]
     },
     "execution_count": 27,
     "metadata": {},
     "output_type": "execute_result"
    }
   ],
   "source": [
    "FinancialInstrument.author"
   ]
  },
  {
   "cell_type": "code",
   "execution_count": 28,
   "metadata": {},
   "outputs": [],
   "source": [
    "aapl = FinancialInstrument('APPL', 100)"
   ]
  },
  {
   "cell_type": "code",
   "execution_count": 29,
   "metadata": {},
   "outputs": [
    {
     "data": {
      "text/plain": [
       "'Roland Ferrao'"
      ]
     },
     "execution_count": 29,
     "metadata": {},
     "output_type": "execute_result"
    }
   ],
   "source": [
    "aapl.author"
   ]
  },
  {
   "cell_type": "code",
   "execution_count": 30,
   "metadata": {},
   "outputs": [
    {
     "data": {
      "text/plain": [
       "'APPL'"
      ]
     },
     "execution_count": 30,
     "metadata": {},
     "output_type": "execute_result"
    }
   ],
   "source": [
    "aapl.symbol"
   ]
  },
  {
   "cell_type": "code",
   "execution_count": 32,
   "metadata": {},
   "outputs": [
    {
     "data": {
      "text/plain": [
       "100"
      ]
     },
     "execution_count": 32,
     "metadata": {},
     "output_type": "execute_result"
    }
   ],
   "source": [
    "aapl.price"
   ]
  },
  {
   "cell_type": "code",
   "execution_count": null,
   "metadata": {},
   "outputs": [],
   "source": []
  },
  {
   "cell_type": "code",
   "execution_count": null,
   "metadata": {},
   "outputs": [],
   "source": []
  },
  {
   "cell_type": "code",
   "execution_count": null,
   "metadata": {},
   "outputs": [],
   "source": []
  },
  {
   "cell_type": "code",
   "execution_count": null,
   "metadata": {},
   "outputs": [],
   "source": []
  },
  {
   "cell_type": "code",
   "execution_count": null,
   "metadata": {},
   "outputs": [],
   "source": []
  },
  {
   "cell_type": "code",
   "execution_count": null,
   "metadata": {},
   "outputs": [],
   "source": []
  },
  {
   "cell_type": "code",
   "execution_count": null,
   "metadata": {},
   "outputs": [],
   "source": []
  },
  {
   "cell_type": "code",
   "execution_count": null,
   "metadata": {},
   "outputs": [],
   "source": []
  },
  {
   "cell_type": "code",
   "execution_count": null,
   "metadata": {},
   "outputs": [],
   "source": []
  },
  {
   "cell_type": "code",
   "execution_count": null,
   "metadata": {},
   "outputs": [],
   "source": [
    "\n",
    "\n"
   ]
  }
 ],
 "metadata": {
  "kernelspec": {
   "display_name": "Python 3",
   "language": "python",
   "name": "python3"
  },
  "language_info": {
   "codemirror_mode": {
    "name": "ipython",
    "version": 3
   },
   "file_extension": ".py",
   "mimetype": "text/x-python",
   "name": "python",
   "nbconvert_exporter": "python",
   "pygments_lexer": "ipython3",
   "version": "3.7.3"
  }
 },
 "nbformat": 4,
 "nbformat_minor": 2
}
